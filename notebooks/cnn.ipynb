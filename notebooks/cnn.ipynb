{
 "cells": [
  {
   "attachments": {},
   "cell_type": "markdown",
   "metadata": {},
   "source": [
    "# Music Genre Classifier\n"
   ]
  },
  {
   "cell_type": "code",
   "execution_count": null,
   "metadata": {},
   "outputs": [],
   "source": [
    "%pip install wget"
   ]
  },
  {
   "cell_type": "code",
   "execution_count": null,
   "metadata": {},
   "outputs": [],
   "source": [
    "import os\n",
    "import cv2\n",
    "import wget\n",
    "import gdown\n",
    "import random\n",
    "import shutil\n",
    "import tarfile\n",
    "import numpy as np\n",
    "import pandas as pd\n",
    "import tensorflow as tf\n",
    "from pandas import DataFrame\n",
    "from keras import Sequential\n",
    "from keras.layers import Flatten, Dense, Conv2D, MaxPool2D, Activation"
   ]
  },
  {
   "cell_type": "code",
   "execution_count": null,
   "metadata": {},
   "outputs": [],
   "source": [
    "SEED_VALUE = 42\n",
    "\n",
    "# Fix seed to make training deterministic.\n",
    "random.seed(SEED_VALUE)\n",
    "np.random.seed(SEED_VALUE)\n",
    "tf.random.set_seed(SEED_VALUE)"
   ]
  },
  {
   "cell_type": "code",
   "execution_count": null,
   "metadata": {},
   "outputs": [],
   "source": [
    "if os.getenv('COLAB_RELEASE_TAG'):\n",
    "    from google.colab import drive \n",
    "    drive.mount('/content/gdrive')"
   ]
  },
  {
   "cell_type": "code",
   "execution_count": null,
   "metadata": {},
   "outputs": [],
   "source": [
    "FEATURES = ['mfcc', 'mfcc_bands', 'mfcc_bands_log']\n",
    "GENRES = ['blues', 'classical', 'country', 'disco', \\\n",
    "    'hiphop', 'jazz', 'metal', 'pop', 'reggae', 'rock']"
   ]
  },
  {
   "attachments": {},
   "cell_type": "markdown",
   "metadata": {},
   "source": [
    "## Load the GTZAN Dataset\n"
   ]
  },
  {
   "cell_type": "code",
   "execution_count": null,
   "metadata": {},
   "outputs": [],
   "source": [
    "# download the features from Google Drive\n",
    "if os.getenv('COLAB_RELEASE_TAG'):\n",
    "    gdown.download(\n",
    "        url='https://drive.google.com/file/d/1LDlvwUeJ-h3JntNSmQABNV8z8oqltojO/view?usp=drive_link', \n",
    "        output='gtzan-features.zip', \n",
    "        quiet=False, fuzzy=True)\n",
    "elif 'gtzan-features.zip' not in os.listdir('.'):\n",
    "    raise Exception(\"Download the GTZAN features.\")\n",
    "\n",
    "# descompress file\n",
    "shutil.unpack_archive(filename='gtzan-features.zip', extract_dir=\"gtzan\")\n"
   ]
  },
  {
   "attachments": {},
   "cell_type": "markdown",
   "metadata": {},
   "source": [
    "## Dataset\n"
   ]
  },
  {
   "cell_type": "code",
   "execution_count": null,
   "metadata": {},
   "outputs": [],
   "source": [
    "def load_dataset(src: str, set: str,  feature: str):\n",
    "    \"\"\"\n",
    "        Divide the dataset into two subsets, the training set, \\\n",
    "        and the validation set.\n",
    "    \"\"\"\n",
    "    dataset = []\n",
    "    \n",
    "    for genre in GENRES:\n",
    "        for img in os.listdir(f'{src}/{set}/{feature}/{genre}'):\n",
    "            img_cv = cv2.imread(f'{src}/{set}/{feature}/{genre}/{img}')\n",
    "            img_cv = cv2.resize(img_cv, (256, 192))\n",
    "            img_cv = np.array(img_cv, dtype=np.float32)\n",
    "            dataset.append([img_cv, genre])\n",
    "\n",
    "    df = DataFrame(data=np.array(dataset, dtype=object), columns=[feature, 'genre'])\n",
    "\n",
    "    one_hot = pd.get_dummies(df['genre'])\n",
    "\n",
    "    df = pd.concat([df, one_hot], axis=1)\n",
    "\n",
    "    df.drop(['genre'], axis=1, inplace=True)\n",
    "    \n",
    "    return (np.array([tf.convert_to_tensor(img) for img in df[feature]]), df[GENRES])"
   ]
  },
  {
   "cell_type": "code",
   "execution_count": null,
   "metadata": {},
   "outputs": [],
   "source": [
    "X_train, y_train = load_dataset('./gtzan/', 'training', 'mfcc')\n",
    "X_val, y_val = load_dataset('./gtzan/', 'validation', 'mfcc')"
   ]
  },
  {
   "attachments": {},
   "cell_type": "markdown",
   "metadata": {},
   "source": [
    "## CNN\n"
   ]
  },
  {
   "cell_type": "code",
   "execution_count": null,
   "metadata": {},
   "outputs": [],
   "source": [
    "model = Sequential()\n",
    "\n",
    "model.add(Conv2D(input_shape=(192, 256, 3), filters=16, kernel_size=(3,3), activation='relu', padding='same', strides=1))\n",
    "model.add(Activation('relu'))\n",
    "model.add(MaxPool2D(pool_size=(2,2)))\n",
    "model.add(Conv2D(filters=32, kernel_size=(3,3), activation='relu'))\n",
    "model.add(Activation('relu'))\n",
    "model.add(MaxPool2D(pool_size=(2,2)))\n",
    "model.add(Conv2D(filters=64, kernel_size=(3,3), activation='relu'))\n",
    "model.add(Activation('relu'))\n",
    "model.add(MaxPool2D(pool_size=(2,2)))\n",
    "model.add(Conv2D(filters=128, kernel_size=(3,3), activation='relu'))\n",
    "model.add(Activation('relu'))\n",
    "model.add(MaxPool2D(pool_size=(2,2)))\n",
    "\n",
    "model.add(Flatten())\n",
    "model.add(Dense(units=256, activation='relu'))\n",
    "model.add(Dense(units=64, activation='relu'))\n",
    "model.add(Dense(units=10, activation='softmax'))\n",
    "\n",
    "model.compile(loss='categorical_crossentropy', \n",
    "              optimizer='adam', metrics=['accuracy'])"
   ]
  },
  {
   "cell_type": "code",
   "execution_count": null,
   "metadata": {},
   "outputs": [],
   "source": [
    "model.summary()"
   ]
  },
  {
   "cell_type": "code",
   "execution_count": null,
   "metadata": {},
   "outputs": [],
   "source": [
    "history = []\n",
    "\n",
    "model_storage = '/content'\n",
    "\n",
    "if os.getenv('COLAB_RELEASE_TAG'):\n",
    "    model_storage = '/content/gdrive/MyDrive'\n",
    "\n",
    "if 'model_storage' not in os.listdir(model_storage):\n",
    "    os.mkdir(f'{model_storage}/model_storage')\n",
    "\n",
    "last_iter = 0\n",
    "\n",
    "if len(os.listdir(f'{model_storage}/model_storage')) > 0:\n",
    "    last_iter = sorted([int(model.removeprefix('model_').removesuffix('.keras'))\n",
    "        for model in os.listdir(f'{model_storage}/model_storage')], reverse=True)[0]\n",
    "    model = tf.keras.saving.load_model(f'{model_storage}/model_storage/model_{last_iter}.keras')\n",
    "\n",
    "for i in range(last_iter, 50):\n",
    "    history.append(model.fit(x=X_train, y=y_train, epochs=10, validation_data=(X_val, y_val)))\n",
    "    model.save(f'{model_storage}/model_storage/model_{i}.keras')"
   ]
  }
 ],
 "metadata": {
  "kernelspec": {
   "display_name": "Python 3",
   "language": "python",
   "name": "python3"
  },
  "language_info": {
   "codemirror_mode": {
    "name": "ipython",
    "version": 3
   },
   "file_extension": ".py",
   "mimetype": "text/x-python",
   "name": "python",
   "nbconvert_exporter": "python",
   "pygments_lexer": "ipython3",
   "version": "3.10.10"
  },
  "orig_nbformat": 4
 },
 "nbformat": 4,
 "nbformat_minor": 2
}
