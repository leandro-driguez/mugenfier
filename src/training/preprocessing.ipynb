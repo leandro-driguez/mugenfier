{
 "cells": [
  {
   "attachments": {},
   "cell_type": "markdown",
   "metadata": {},
   "source": [
    "# Music Genre Classifier"
   ]
  },
  {
   "cell_type": "code",
   "execution_count": null,
   "metadata": {},
   "outputs": [],
   "source": [
    "import os\n",
    "import re\n",
    "import wget\n",
    "import shutil\n",
    "import tarfile\n",
    "from pylab import imshow\n",
    "from essentia import Pool \n",
    "import matplotlib.pyplot as plt\n",
    "from essentia.standard import FrameGenerator, MonoLoader, \\\n",
    "    Windowing, Spectrum, MFCC, UnaryOperator"
   ]
  },
  {
   "attachments": {},
   "cell_type": "markdown",
   "metadata": {},
   "source": [
    "## Load the GTZAN Dataset"
   ]
  },
  {
   "cell_type": "code",
   "execution_count": null,
   "metadata": {},
   "outputs": [],
   "source": [
    "PREPROCESSING = True\n",
    "\n",
    "SETS = ['training', 'validation', 'tests']\n",
    "FEATURES = ['mfcc', 'mfcc_bands', 'mfcc_bands_log']\n",
    "GENRES = ['blues', 'classical', 'country', 'disco', \\\n",
    "    'hiphop', 'jazz', 'metal', 'pop', 'reggae', 'rock']\n",
    "\n",
    "if 'dataset' not in os.listdir('.'):\n",
    "    os.mkdir('./dataset')\n",
    "\n",
    "if 'genres.tar.gz' not in os.listdir('./dataset'):    \n",
    "    if os.getenv('COLAB_RELEASE_TAG'):\n",
    "        # download the GTZAN dataset\n",
    "        wget.download(\"https://huggingface.co/datasets/marsyas/gtzan/resolve/main/data/genres.tar.gz\")\n",
    "        shutil.copy2(src='./genres.tar.gz', dst='./dataset/')\n",
    "    else:\n",
    "        raise Exception(\"Download the GTZAN dataset.\")\n",
    "\n",
    "# extract all dataset\n",
    "if 'genres' not in os.listdir('./dataset'):\n",
    "    tar = tarfile.open('./dataset/genres.tar.gz', 'r:gz')\n",
    "    tar.extractall('./dataset')\n",
    "    tar.close()\n",
    "\n",
    "if 'split' not in os.listdir('./dataset'):\n",
    "    PREPROCESSING = True\n",
    "\n",
    "if PREPROCESSING:\n",
    "    os.mkdir('./dataset/split')\n",
    "    \n",
    "    for set in SETS:\n",
    "        os.mkdir(f'./dataset/split/{set}')\n",
    "        os.mkdir(f'./dataset/split/{set}/data')\n",
    "        os.mkdir(f'./dataset/split/{set}/features')\n",
    "        \n",
    "        for feat in FEATURES:\n",
    "            os.mkdir(f'./dataset/split/{set}/features/{feat}')\n",
    "    \n",
    "            for genre in GENRES:\n",
    "                if genre not in os.listdir(f'./dataset/split/{set}/data'):\n",
    "                    os.mkdir(f'./dataset/split/{set}/data/{genre}')\n",
    "                os.mkdir(f'./dataset/split/{set}/features/{feat}/{genre}')    \n",
    "\n",
    "    # remove all unnecesary files\n",
    "    for genre in GENRES:\n",
    "        for wav in os.listdir(f'./dataset/genres/{genre}'):\n",
    "            matched = re.match(r\"(\\w+).(\\d+).wav\", wav)\n",
    "            if matched:\n",
    "                _, i = matched.groups()\n",
    "                i = int(i)\n",
    "                dest = ''\n",
    "\n",
    "                if i >=0 and i <= 79:\n",
    "                    dest = f'./dataset/split/training/data/{genre}'\n",
    "                elif i >= 80 and i <= 89:\n",
    "                    dest = f'./dataset/split/validation/data/{genre}'\n",
    "                else:\n",
    "                    dest = f'./dataset/split/tests/data/{genre}'\n",
    "\n",
    "                shutil.copy2(\n",
    "                    src=f'./dataset/genres/{genre}/{wav}',\n",
    "                    dst=dest\n",
    "                )\n",
    "\n",
    "    shutil.rmtree('./dataset/genres')\n",
    "\n",
    "    PREPROCESSING = True"
   ]
  },
  {
   "attachments": {},
   "cell_type": "markdown",
   "metadata": {},
   "source": [
    "## Feature Extraction"
   ]
  },
  {
   "cell_type": "code",
   "execution_count": null,
   "metadata": {},
   "outputs": [],
   "source": [
    "plt.rcParams['figure.figsize'] = (16, 9)\n",
    "\n",
    "def extract_mfcc(src: str, dst: str, name: str, genre: str):\n",
    "    # we start by instantiating the audio loader:\n",
    "    loader = MonoLoader(filename=src)\n",
    "\n",
    "    # and then we actually perform the loading:\n",
    "    audio = loader()\n",
    "\n",
    "    w = Windowing(type = 'hann')\n",
    "    spectrum = Spectrum()  # FFT() would return the complex FFT, here we just want the magnitude spectrum\n",
    "    mfcc = MFCC()\n",
    "    \n",
    "    logNorm = UnaryOperator(type='log')\n",
    "\n",
    "    pool = Pool()\n",
    "\n",
    "    for frame in FrameGenerator(audio, frameSize = 1024, hopSize = 512, startFromZero=True):\n",
    "        mfcc_bands, mfcc_coeffs = mfcc(spectrum(w(frame)))\n",
    "        pool.add('lowlevel.mfcc', mfcc_coeffs)\n",
    "        pool.add('lowlevel.mfcc_bands', mfcc_bands)\n",
    "        pool.add('lowlevel.mfcc_bands_log', logNorm(mfcc_bands))\n",
    "\n",
    "    for feat in FEATURES:\n",
    "        imshow(pool[f'lowlevel.{feat}'].T[1:,:], aspect='auto', origin='lower', interpolation='none')\n",
    "        plt.axis('off')\n",
    "        plt.savefig(f'{dst}/{feat}/{genre}/{name}.png', bbox_inches='tight', pad_inches=0)\n"
   ]
  },
  {
   "attachments": {},
   "cell_type": "markdown",
   "metadata": {},
   "source": [
    "## Dataset Preprocessing"
   ]
  },
  {
   "cell_type": "code",
   "execution_count": null,
   "metadata": {},
   "outputs": [],
   "source": [
    "count = 1\n",
    "PREPROCESSING = True\n",
    "\n",
    "# extract features from the data set\n",
    "for genre in GENRES:\n",
    "    for set in SETS:\n",
    "        for wav in os.listdir(f'./dataset/split/{set}/data/{genre}'):\n",
    "            if PREPROCESSING:\n",
    "                try: \n",
    "                    extract_mfcc(\n",
    "                        src=f'./dataset/split/{set}/data/{genre}/{wav}', \n",
    "                        dst=f'./dataset/split/{set}/features',\n",
    "                        name=wav.removesuffix('.wav'),\n",
    "                        genre=genre\n",
    "                    )\n",
    "                    print(f'{count} - {wav} EXTRACTED')\n",
    "                    count += 1\n",
    "                except:..."
   ]
  }
 ],
 "metadata": {
  "kernelspec": {
   "display_name": "Python 3",
   "language": "python",
   "name": "python3"
  },
  "language_info": {
   "codemirror_mode": {
    "name": "ipython",
    "version": 3
   },
   "file_extension": ".py",
   "mimetype": "text/x-python",
   "name": "python",
   "nbconvert_exporter": "python",
   "pygments_lexer": "ipython3",
   "version": "3.11.3"
  },
  "orig_nbformat": 4
 },
 "nbformat": 4,
 "nbformat_minor": 2
}
