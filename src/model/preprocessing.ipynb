{
 "cells": [
  {
   "attachments": {},
   "cell_type": "markdown",
   "metadata": {},
   "source": [
    "# Music Genre Classifier"
   ]
  },
  {
   "cell_type": "code",
   "execution_count": null,
   "metadata": {},
   "outputs": [],
   "source": [
    "import os\n",
    "import wget\n",
    "import shutil\n",
    "import tarfile\n",
    "from pylab import imshow\n",
    "from essentia import Pool \n",
    "import matplotlib.pyplot as plt\n",
    "from essentia.standard import FrameGenerator, MonoLoader, \\\n",
    "    Windowing, Spectrum, MFCC, UnaryOperator"
   ]
  },
  {
   "attachments": {},
   "cell_type": "markdown",
   "metadata": {},
   "source": [
    "## Load the GTZAN Dataset"
   ]
  },
  {
   "cell_type": "code",
   "execution_count": null,
   "metadata": {},
   "outputs": [],
   "source": [
    "PREPROCESSING = False\n",
    "\n",
    "try:\n",
    "    if 'dataset' not in os.listdir('.'):\n",
    "        os.mkdir('./dataset/')\n",
    "    os.chdir('./dataset/')\n",
    "\n",
    "    if 'genres.tar.gz' not in os.listdir('.'):    \n",
    "        if os.getenv('COLAB_RELEASE_TAG'):\n",
    "            # download the GTZAN dataset\n",
    "            wget.download(\"https://huggingface.co/datasets/marsyas/gtzan/resolve/main/data/genres.tar.gz\")\n",
    "        else:\n",
    "            raise Exception(\"Download the GTZAN dataset.\")\n",
    "        \n",
    "    # extract all dataset\n",
    "    if 'genres' not in os.listdir('.'):\n",
    "        tar = tarfile.open('genres.tar.gz', 'r:gz')\n",
    "        tar.extractall()\n",
    "        tar.close()\n",
    "\n",
    "    if 'preprocessing' not in os.listdir('.'):\n",
    "        PREPROCESSING = True\n",
    "\n",
    "    if PREPROCESSING:\n",
    "        os.mkdir('./preprocessing')\n",
    "        os.mkdir('./preprocessing/mfcc')\n",
    "        os.mkdir('./preprocessing/mfcc_bands')\n",
    "        os.mkdir('./preprocessing/mfcc_bands_log')\n",
    "\n",
    "        # remove all unnecesary files\n",
    "        for genre in os.listdir('./genres'):\n",
    "            if genre.startswith('.'): \n",
    "                os.remove(f'./genres/{genre}')\n",
    "                continue\n",
    "            \n",
    "            if PREPROCESSING:\n",
    "                os.mkdir(f'./preprocessing/mfcc/{genre}')\n",
    "                os.mkdir(f'./preprocessing/mfcc_bands/{genre}')\n",
    "                os.mkdir(f'./preprocessing/mfcc_bands_log/{genre}')\n",
    "            \n",
    "            for wav in os.listdir(f'./genres/{genre}'):\n",
    "                if wav.startswith('._'):\n",
    "                    os.remove(f'./genres/{genre}/{wav}')\n",
    "\n",
    "        for file in os.listdir('.'):\n",
    "            if file.startswith('._'):\n",
    "                os.remove(file)\n",
    "\n",
    "finally:\n",
    "    os.chdir('..')\n",
    "    GENRES = os.listdir('./dataset/genres/')"
   ]
  },
  {
   "attachments": {},
   "cell_type": "markdown",
   "metadata": {},
   "source": [
    "## Feature Extraction"
   ]
  },
  {
   "cell_type": "code",
   "execution_count": null,
   "metadata": {},
   "outputs": [],
   "source": [
    "plt.rcParams['figure.figsize'] = (16, 9)\n",
    "\n",
    "def extract_mfcc(src: str, dst: str, name: str, genre: str):\n",
    "    # we start by instantiating the audio loader:\n",
    "    loader = MonoLoader(filename=src)\n",
    "\n",
    "    # and then we actually perform the loading:\n",
    "    audio = loader()\n",
    "\n",
    "    w = Windowing(type = 'hann')\n",
    "    spectrum = Spectrum()  # FFT() would return the complex FFT, here we just want the magnitude spectrum\n",
    "    mfcc = MFCC()\n",
    "    \n",
    "    logNorm = UnaryOperator(type='log')\n",
    "\n",
    "    pool = Pool()\n",
    "\n",
    "    for frame in FrameGenerator(audio, frameSize = 1024, hopSize = 512, startFromZero=True):\n",
    "        mfcc_bands, mfcc_coeffs = mfcc(spectrum(w(frame)))\n",
    "        pool.add('lowlevel.mfcc', mfcc_coeffs)\n",
    "        pool.add('lowlevel.mfcc_bands', mfcc_bands)\n",
    "        pool.add('lowlevel.mfcc_bands_log', logNorm(mfcc_bands))\n",
    "\n",
    "    imshow(pool['lowlevel.mfcc'].T[1:,:], aspect='auto', origin='lower', interpolation='none')\n",
    "    plt.axis('off')\n",
    "    plt.savefig(f'{dst}/mfcc/{genre}/{name}.png', bbox_inches='tight', pad_inches=0)\n",
    "\n",
    "    imshow(pool['lowlevel.mfcc_bands'].T, aspect = 'auto', origin='lower', interpolation='none')\n",
    "    plt.axis('off')\n",
    "    plt.savefig(f'{dst}/mfcc_bands/{genre}/{name}.png', bbox_inches='tight', pad_inches=0)\n",
    "\n",
    "    imshow(pool['lowlevel.mfcc_bands_log'].T, aspect = 'auto', origin='lower', interpolation='none')\n",
    "    plt.axis('off')\n",
    "    plt.savefig(f'{dst}/mfcc_bands_log/{genre}/{name}.png', bbox_inches='tight', pad_inches=0)"
   ]
  },
  {
   "attachments": {},
   "cell_type": "markdown",
   "metadata": {},
   "source": [
    "## Dataset Preprocessing"
   ]
  },
  {
   "cell_type": "code",
   "execution_count": null,
   "metadata": {},
   "outputs": [],
   "source": [
    "count = 1\n",
    "\n",
    "# extract features from the data set\n",
    "for genre in ['jazz', 'rock']:\n",
    "    for wav in os.listdir(f'./dataset/genres/{genre}'):\n",
    "        if PREPROCESSING:\n",
    "            try: \n",
    "                extract_mfcc(\n",
    "                    src=f'./dataset/genres/{genre}/{wav}', \n",
    "                    dst=f'./dataset/preprocessing',\n",
    "                    name=wav.removesuffix('.wav'),\n",
    "                    genre=genre\n",
    "                )\n",
    "                print(f'{count} - {wav} EXTRACTED')\n",
    "                count += 1\n",
    "            except:..."
   ]
  }
 ],
 "metadata": {
  "kernelspec": {
   "display_name": "Python 3",
   "language": "python",
   "name": "python3"
  },
  "language_info": {
   "codemirror_mode": {
    "name": "ipython",
    "version": 3
   },
   "file_extension": ".py",
   "mimetype": "text/x-python",
   "name": "python",
   "nbconvert_exporter": "python",
   "pygments_lexer": "ipython3",
   "version": "3.10.10"
  },
  "orig_nbformat": 4
 },
 "nbformat": 4,
 "nbformat_minor": 2
}
