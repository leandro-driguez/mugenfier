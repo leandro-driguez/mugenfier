{
  "cells": [
    {
      "cell_type": "markdown",
      "metadata": {
        "id": "6oCF3wKMDNp6"
      },
      "source": [
        "# Music Genre Classifier\n"
      ]
    },
    {
      "cell_type": "code",
      "execution_count": 1,
      "metadata": {
        "id": "-XfiDBNMDNp_"
      },
      "outputs": [],
      "source": [
        "import os\n",
        "import cv2\n",
        "import random\n",
        "import shutil\n",
        "import zipfile\n",
        "import numpy as np\n",
        "import pandas as pd\n",
        "import tensorflow as tf\n",
        "import matplotlib.pyplot as plt\n",
        "from tensorflow.keras.models import Model\n",
        "from pandas import DataFrame\n",
        "from keras import Sequential\n",
        "from sklearn.model_selection import train_test_split, KFold\n",
        "from keras.layers import Conv2D, UpSampling2D, MaxPooling2D, Input, Cropping2D, Cropping3D, Flatten, Dense, Reshape"
      ]
    },
    {
      "cell_type": "code",
      "execution_count": 2,
      "metadata": {
        "id": "TrKBv-RiDNqB"
      },
      "outputs": [],
      "source": [
        "SEED_VALUE = 42\n",
        "\n",
        "# Fix seed to make training deterministic.\n",
        "random.seed(SEED_VALUE)\n",
        "np.random.seed(SEED_VALUE)\n",
        "tf.random.set_seed(SEED_VALUE)"
      ]
    },
    {
      "cell_type": "markdown",
      "metadata": {
        "id": "Fq-JEy-vDNqB"
      },
      "source": [
        "## Load the GTZAN Dataset\n"
      ]
    },
    {
      "cell_type": "code",
      "execution_count": 3,
      "metadata": {
        "colab": {
          "base_uri": "https://localhost:8080/"
        },
        "id": "BQ4Ip6g-DNqC",
        "outputId": "86598be3-da45-4ef2-9a44-b5ddbd8d6105"
      },
      "outputs": [
        {
          "output_type": "stream",
          "name": "stdout",
          "text": [
            "Mounted at /content/gdrive\n"
          ]
        }
      ],
      "source": [
        "if os.getenv('COLAB_RELEASE_TAG'):\n",
        "    from google.colab import drive\n",
        "    drive.mount('/content/gdrive')"
      ]
    },
    {
      "cell_type": "code",
      "execution_count": 4,
      "metadata": {
        "id": "TurG6yZ1DNqC"
      },
      "outputs": [],
      "source": [
        "PREPROCESSING = False\n",
        "\n",
        "try:\n",
        "    if 'dataset' not in os.listdir('/content'):\n",
        "        os.mkdir('/content/dataset/')\n",
        "    pwd = os.getcwd()\n",
        "    os.chdir('/content/dataset/')\n",
        "\n",
        "    if 'gtzan-features.zip' not in os.listdir('.'):\n",
        "        if os.getenv('COLAB_RELEASE_TAG'):\n",
        "            if 'gtzan-features.zip' in os.listdir('/content/gdrive/MyDrive'):\n",
        "                shutil.copy2('/content/gdrive/MyDrive/gtzan-features.zip', '.')\n",
        "            else:\n",
        "                # make sure to download the GTZAN dataset from \"https://drive.google.com/file/d/1LDlvwUeJ-h3JntNSmQABNV8z8oqltojO/view?usp=drive_link\"\n",
        "                # upload it to your own google drive for it to be copied in the previous if statement block\n",
        "                pass\n",
        "        else:\n",
        "            if pwd != '/content/dataset':\n",
        "                if 'gtzan-features.zip' in os.listdir(f'{pwd}/dataset'):\n",
        "                    shutil.copy2(f'{pwd}/dataset/gtzan-features.zip', '.')\n",
        "                else:\n",
        "                    raise Exception(\"Download the GTZAN dataset preprocessed.\")\n",
        "\n",
        "        with zipfile.ZipFile('gtzan-features.zip', 'r') as zip_ref:\n",
        "            zip_ref.extractall('.')\n",
        "\n",
        "finally:\n",
        "    GENRES = os.listdir('/content/dataset/training/mfcc')\n"
      ]
    },
    {
      "cell_type": "markdown",
      "metadata": {
        "id": "1Jht-abLDNqD"
      },
      "source": [
        "## Dataset\n"
      ]
    },
    {
      "cell_type": "code",
      "execution_count": 5,
      "metadata": {
        "id": "VDRogc3lDNqD"
      },
      "outputs": [],
      "source": [
        "def load_data(src: str, feature: str, \n",
        "              random_state: float = SEED_VALUE, shuffle: bool = True, \n",
        "              stratify: list = None):\n",
        "    dataset = []\n",
        "    for genre in os.listdir(f'{src}/{feature}'):\n",
        "        for img in os.listdir(f'{src}/{feature}/{genre}'):\n",
        "            img = cv2.imread(f'{src}/{feature}/{genre}/{img}')\n",
        "            img = cv2.resize(img, (256, 192))\n",
        "            img = np.array(img, dtype=np.float32)\n",
        "            dataset.append([img, genre])\n",
        "\n",
        "    df = DataFrame(data=np.array(dataset, dtype=object), columns=[feature, 'genre'])\n",
        "\n",
        "    one_hot = pd.get_dummies(df['genre'])\n",
        "\n",
        "    df = pd.concat([df, one_hot], axis=1)\n",
        "    df.drop(['genre'], axis=1, inplace=True)\n",
        "\n",
        "    return (np.array([tf.convert_to_tensor(img) for img in df['mfcc']]), df[GENRES])"
      ]
    },
    {
      "cell_type": "code",
      "execution_count": 6,
      "metadata": {
        "id": "gfOsnG1BDNqE"
      },
      "outputs": [],
      "source": [
        "(X_train, _) = load_data('./training/', 'mfcc', stratify=GENRES)\n",
        "(X_test, _) = load_data('./tests/', 'mfcc', stratify=GENRES)\n",
        "(X_val, _) = load_data('./validation/', 'mfcc', stratify=GENRES)\n",
        "\n",
        "# for cross validation purposes it is encouraged to concatenate all input/output data, in this case, only input\n",
        "X_all = np.concatenate((X_train, X_test), axis=0)\n",
        "X_all = np.concatenate((X_all, X_val), axis=0)\n",
        "# this is just to normalize the values between 0 and 1\n",
        "X_train = X_train / 255\n",
        "X_test = X_test / 255\n",
        "X_val = X_val / 255\n",
        "X_all = X_all / 255"
      ]
    },
    {
      "cell_type": "markdown",
      "metadata": {
        "id": "bXuwBf8uDNqE"
      },
      "source": [
        "## CNN Autoencoder\n"
      ]
    },
    {
      "cell_type": "code",
      "execution_count": 7,
      "metadata": {
        "id": "nt2KtEizDNqF"
      },
      "outputs": [],
      "source": [
        "def generate_autoencoder():\n",
        "    input_l=Input(shape=(192, 256, 3))\n",
        "\n",
        "    maxp_ini=MaxPooling2D((4,4), padding='same', strides=(2, 2))(input_l)\n",
        "    encoding_1=Conv2D(12, (3,3), activation='relu',padding='same')(maxp_ini)\n",
        "\n",
        "    maxp_1=MaxPooling2D((2,2), padding='same')(encoding_1)\n",
        "    encoding_2=Conv2D(6, (3,3), activation='relu',padding='same')(maxp_1)\n",
        "\n",
        "    maxp_2=MaxPooling2D((2,2), padding='same')(encoding_2)\n",
        "    encoding_3=Conv2D(3, (3,3), activation='relu',padding='same')(maxp_2)\n",
        "\n",
        "    flat_1=Flatten()(encoding_3)\n",
        "\n",
        "    bottleneck=Dense(500)(flat_1)\n",
        "\n",
        "    decoding_1=Dense(2304, activation='relu')(bottleneck)\n",
        "    resh_1=Reshape(target_shape=(24, 32, 3)) (decoding_1)\n",
        "\n",
        "    decoding_2=Conv2D(6, (3,3), activation='relu', padding='same')(resh_1)\n",
        "    Up_1=UpSampling2D((2,2))(decoding_2)\n",
        "\n",
        "    decoding_3=Conv2D(12, (3,3), activation='relu', padding='same')(Up_1)\n",
        "    Up_2=UpSampling2D((2,2))(decoding_3)\n",
        "\n",
        "    decoding_4=Conv2D(3, (3,3), activation='relu', padding='same')(Up_2)\n",
        "    output_l=UpSampling2D((2,2))(decoding_4)\n",
        "\n",
        "    autoencoder=Model(inputs=[input_l],outputs=[output_l])\n",
        "\n",
        "    autoencoder.compile(optimizer='adam', loss='mean_squared_error', metrics=['mean_squared_error'])\n",
        "\n",
        "    return autoencoder"
      ]
    },
    {
      "cell_type": "code",
      "execution_count": 8,
      "metadata": {
        "colab": {
          "base_uri": "https://localhost:8080/"
        },
        "id": "dBeIyu3iDNqF",
        "outputId": "527a3fb3-54a4-4e71-eabe-c647ee1aa05e"
      },
      "outputs": [
        {
          "output_type": "stream",
          "name": "stdout",
          "text": [
            "Model: \"model\"\n",
            "_________________________________________________________________\n",
            " Layer (type)                Output Shape              Param #   \n",
            "=================================================================\n",
            " input_1 (InputLayer)        [(None, 192, 256, 3)]     0         \n",
            "                                                                 \n",
            " max_pooling2d (MaxPooling2D  (None, 96, 128, 3)       0         \n",
            " )                                                               \n",
            "                                                                 \n",
            " conv2d (Conv2D)             (None, 96, 128, 12)       336       \n",
            "                                                                 \n",
            " max_pooling2d_1 (MaxPooling  (None, 48, 64, 12)       0         \n",
            " 2D)                                                             \n",
            "                                                                 \n",
            " conv2d_1 (Conv2D)           (None, 48, 64, 6)         654       \n",
            "                                                                 \n",
            " max_pooling2d_2 (MaxPooling  (None, 24, 32, 6)        0         \n",
            " 2D)                                                             \n",
            "                                                                 \n",
            " conv2d_2 (Conv2D)           (None, 24, 32, 3)         165       \n",
            "                                                                 \n",
            " flatten (Flatten)           (None, 2304)              0         \n",
            "                                                                 \n",
            " dense (Dense)               (None, 500)               1152500   \n",
            "                                                                 \n",
            " dense_1 (Dense)             (None, 2304)              1154304   \n",
            "                                                                 \n",
            " reshape (Reshape)           (None, 24, 32, 3)         0         \n",
            "                                                                 \n",
            " conv2d_3 (Conv2D)           (None, 24, 32, 6)         168       \n",
            "                                                                 \n",
            " up_sampling2d (UpSampling2D  (None, 48, 64, 6)        0         \n",
            " )                                                               \n",
            "                                                                 \n",
            " conv2d_4 (Conv2D)           (None, 48, 64, 12)        660       \n",
            "                                                                 \n",
            " up_sampling2d_1 (UpSampling  (None, 96, 128, 12)      0         \n",
            " 2D)                                                             \n",
            "                                                                 \n",
            " conv2d_5 (Conv2D)           (None, 96, 128, 3)        327       \n",
            "                                                                 \n",
            " up_sampling2d_2 (UpSampling  (None, 192, 256, 3)      0         \n",
            " 2D)                                                             \n",
            "                                                                 \n",
            "=================================================================\n",
            "Total params: 2,309,114\n",
            "Trainable params: 2,309,114\n",
            "Non-trainable params: 0\n",
            "_________________________________________________________________\n"
          ]
        }
      ],
      "source": [
        "generate_autoencoder().summary()"
      ]
    },
    {
      "cell_type": "code",
      "execution_count": 9,
      "metadata": {
        "id": "gr4CfUOO7xgb"
      },
      "outputs": [],
      "source": [
        "model_storage = '/content'\n",
        "\n",
        "if os.getenv('COLAB_RELEASE_TAG'):\n",
        "    model_storage = '/content/gdrive/MyDrive'\n",
        "\n",
        "if 'model_storage_final' not in os.listdir(model_storage):\n",
        "    os.mkdir(f'{model_storage}/model_storage_final')\n",
        "\n",
        "model_storage='/content/gdrive/MyDrive/model_storage_final'"
      ]
    },
    {
      "cell_type": "markdown",
      "metadata": {
        "id": "6kSY-S-Z3ZCX"
      },
      "source": [
        "## Training and Cross Validating"
      ]
    },
    {
      "cell_type": "code",
      "execution_count": 10,
      "metadata": {
        "colab": {
          "base_uri": "https://localhost:8080/"
        },
        "id": "Jhu2oqEMDNqF",
        "outputId": "938c75c8-0892-44da-aaae-eea9b8a35266"
      },
      "outputs": [
        {
          "output_type": "stream",
          "name": "stdout",
          "text": [
            "Score for validation set: loss of 0.0018654228188097477\n"
          ]
        }
      ],
      "source": [
        "autoencoder = generate_autoencoder()\n",
        "last_iter = 0\n",
        "iter_num = 15\n",
        "\n",
        "if len([autoencoder for autoencoder in os.listdir(model_storage) if autoencoder[:19]=='autoencoder_model2_']) > 0:\n",
        "    last_iter = sorted([int(autoencoder.removeprefix(f'autoencoder_model2_').removesuffix('.keras'))\n",
        "        for autoencoder in os.listdir(model_storage) if autoencoder[:19]=='autoencoder_model2_'], reverse=True)[0]\n",
        "    autoencoder = tf.keras.saving.load_model(f'{model_storage}/autoencoder_model2_{last_iter}.keras')\n",
        "    last_iter+=1 #this is for not overwriting the last saved model\n",
        "\n",
        "for i in range(last_iter, iter_num):\n",
        "    autoencoder.fit(x=X_train, y=X_train, epochs=10, validation_data=(X_test, X_test))\n",
        "    autoencoder.save(f'{model_storage}/autoencoder_model2_{i}.keras')\n",
        "\n",
        "# Generate validation set metrics\n",
        "scores = autoencoder.evaluate(X_val, X_val, verbose=0)\n",
        "print(f'Score for validation set: {autoencoder.metrics_names[0]} of {scores[0]}')"
      ]
    },
    {
      "cell_type": "code",
      "source": [
        "kfold=KFold(n_splits=10, shuffle=True)\n",
        "kfold_splits=[]\n",
        "\n",
        "for train, test in kfold.split(X_all, X_all):\n",
        "    kfold_splits.append((train, test))"
      ],
      "metadata": {
        "id": "HfSYG4kI08z3"
      },
      "execution_count": 11,
      "outputs": []
    },
    {
      "cell_type": "code",
      "source": [
        "fold_no=1\n",
        "final_errors_per_fold=[]\n",
        "\n",
        "for train, test in kfold_splits:\n",
        "    last_iter = 0\n",
        "\n",
        "    autoencoder = generate_autoencoder()\n",
        "\n",
        "    if f'fold_{fold_no}' not in os.listdir(model_storage):\n",
        "        os.mkdir(f'{model_storage}/fold_{fold_no}')\n",
        "\n",
        "    if len([autoencoder for autoencoder in os.listdir(f'{model_storage}/fold_{fold_no}') if autoencoder[:19]=='autoencoder_model2_']) > 0:\n",
        "        last_iter = sorted([int(autoencoder.removeprefix(f'autoencoder_model2_').removesuffix('.keras'))\n",
        "            for autoencoder in os.listdir(f'{model_storage}/fold_{fold_no}') if autoencoder[:19]=='autoencoder_model2_'], reverse=True)[0]\n",
        "        autoencoder = tf.keras.saving.load_model(f'{model_storage}/fold_{fold_no}/autoencoder_model2_{last_iter}.keras')\n",
        "        last_iter+=1 #this is for not overwriting the last saved model\n",
        "\n",
        "    for i in range(last_iter, iter_num):\n",
        "        autoencoder.fit(x=X_all[train], y=X_all[train], epochs=10)\n",
        "        autoencoder.save(f'{model_storage}/fold_{fold_no}/autoencoder_model2_{i}.keras')\n",
        "\n",
        "    # Generate generalization metrics\n",
        "    scores = autoencoder.evaluate(X_all[test], X_all[test], verbose=0)\n",
        "    print(f'Score for fold {fold_no}: {autoencoder.metrics_names[0]} of {scores[0]}')\n",
        "    final_errors_per_fold.append(scores[0])\n",
        "\n",
        "    # Increase fold number\n",
        "    fold_no = fold_no + 1\n",
        "\n",
        "\n",
        "plt.figure(figsize=(7,3))\n",
        "\n",
        "plt.plot(final_errors_per_fold, label='fold test set')\n",
        "plt.title('Loss Function (MSE)')\n",
        "plt.xlabel('Fold #')\n",
        "plt.ylabel('Mean Squared Error')\n",
        "plt.legend()\n",
        "\n",
        "plt.show()"
      ],
      "metadata": {
        "colab": {
          "base_uri": "https://localhost:8080/",
          "height": 511
        },
        "id": "h41zLs_B1Bzu",
        "outputId": "d8d697b7-c001-4ef3-a19f-b3ffd19a027c"
      },
      "execution_count": 12,
      "outputs": [
        {
          "output_type": "stream",
          "name": "stdout",
          "text": [
            "Score for fold 1: loss of 0.0015978243900462985\n",
            "Score for fold 2: loss of 0.001570885768160224\n",
            "Score for fold 3: loss of 0.0015570692485198379\n",
            "Score for fold 4: loss of 0.0015928276116028428\n",
            "Score for fold 5: loss of 0.00165411620400846\n",
            "Score for fold 6: loss of 0.0015304619446396828\n",
            "Score for fold 7: loss of 0.0015729523729532957\n",
            "Score for fold 8: loss of 0.0015823842259123921\n",
            "Score for fold 9: loss of 0.001667478703893721\n",
            "Score for fold 10: loss of 0.0016295399982482195\n"
          ]
        },
        {
          "output_type": "display_data",
          "data": {
            "text/plain": [
              "<Figure size 700x300 with 1 Axes>"
            ],
            "image/png": "[encoded data removed]"
          },
          "metadata": {}
        }
      ]
    },
    {
      "cell_type": "markdown",
      "source": [
        "## Overfitting analysis"
      ],
      "metadata": {
        "id": "kub5xu74yJal"
      }
    },
    {
      "cell_type": "code",
      "source": [
        "autoencoder = generate_autoencoder()\n",
        "last_iter = 0\n",
        "iter_num = 50\n",
        "history_train=[]\n",
        "history_test=[]\n",
        "\n",
        "for i in range(last_iter, iter_num):\n",
        "    if f'overfitting_analysis_{i}.keras' in [autoencoder for autoencoder in os.listdir(model_storage)]:\n",
        "        autoencoder = tf.keras.saving.load_model(f'{model_storage}/overfitting_analysis_{i}.keras')\n",
        "    else:\n",
        "        autoencoder.fit(x=X_train, y=X_train, epochs=10, validation_data=(X_test, X_test))\n",
        "\n",
        "    scores_train = autoencoder.evaluate(X_train, X_train, verbose=0)\n",
        "    history_train.append(scores_train[0])\n",
        "\n",
        "    scores_test = autoencoder.evaluate(X_test, X_test, verbose=0)\n",
        "    history_test.append(scores_test[0])\n",
        "\n",
        "    if f'overfitting_analysis_{i}.keras' not in [autoencoder for autoencoder in os.listdir(model_storage)]:\n",
        "        autoencoder.save(f'{model_storage}/overfitting_analysis_{i}.keras')\n",
        "\n",
        "plt.figure(figsize=(7,3))\n",
        "\n",
        "plt.subplot(1,2,1)\n",
        "plt.plot(history_train, label='train')\n",
        "plt.plot(history_test, label='test')\n",
        "plt.title('Loss Function (MSE)')\n",
        "plt.xlabel('Save')\n",
        "plt.ylabel('Mean Squared Error')\n",
        "plt.legend()\n",
        "\n",
        "plt.show()"
      ],
      "metadata": {
        "colab": {
          "base_uri": "https://localhost:8080/",
          "height": 333
        },
        "id": "daS1XFnNyH8L",
        "outputId": "52a86fdd-40f5-4a97-9f78-a58f9b77fe8d"
      },
      "execution_count": 13,
      "outputs": [
        {
          "output_type": "display_data",
          "data": {
            "text/plain": [
              "<Figure size 700x300 with 1 Axes>"
            ],
            "image/png": "[encoded data removed]"
          },
          "metadata": {}
        }
      ]
    },
    {
      "cell_type": "markdown",
      "metadata": {
        "id": "LNqDoyxy1iMY"
      },
      "source": [
        "## Encoder"
      ]
    },
    {
      "cell_type": "code",
      "execution_count": 14,
      "metadata": {
        "colab": {
          "base_uri": "https://localhost:8080/"
        },
        "id": "emTGNskG2c_6",
        "outputId": "f087249c-99f0-447d-f3bf-f5619a413c1e"
      },
      "outputs": [
        {
          "output_type": "stream",
          "name": "stderr",
          "text": [
            "WARNING:tensorflow:Compiled the loaded model, but the compiled metrics have yet to be built. `model.compile_metrics` will be empty until you train or evaluate the model.\n"
          ]
        },
        {
          "output_type": "stream",
          "name": "stdout",
          "text": [
            "tf.Tensor(\n",
            "[[-1.18611023e-01 -1.45410048e-02 -5.16168922e-02 -4.52646567e-03\n",
            "  -4.99989726e-02 -7.06644058e-02 -3.11843283e-03 -4.38341033e-03\n",
            "  -2.80506182e-02  2.21636109e-02  8.64882395e-02 -4.17456701e-02\n",
            "  -9.94971767e-03 -9.43090618e-02  2.93995552e-02  2.19417401e-02\n",
            "   1.31567428e-03 -7.63638411e-04  2.92655756e-03 -4.30082381e-02\n",
            "   3.23323719e-02 -1.55457165e-02  4.31308560e-02 -7.86170736e-03\n",
            "   2.36294307e-02  2.09259838e-02 -6.51268959e-02 -1.53439911e-02\n",
            "   1.52383018e-02  8.71672761e-03 -6.99814111e-02 -7.76365958e-03\n",
            "  -2.90662870e-02  3.03099323e-02 -8.47542100e-03 -1.85869876e-02\n",
            "   2.77502853e-02 -1.57598153e-01  5.93213141e-02 -2.69710291e-02\n",
            "   1.49233630e-02  4.16679196e-02  1.13350414e-02  3.64209414e-02\n",
            "  -1.59923866e-01  9.16383937e-02  4.17865217e-02 -2.42226236e-02\n",
            "  -5.81484102e-03  6.14931583e-02  2.53466796e-02  5.52394167e-02\n",
            "  -9.32426304e-02 -2.39038691e-02  1.70433186e-02 -1.20908096e-02\n",
            "   2.03561224e-02 -3.58801102e-04  3.55606303e-02  2.46872520e-03\n",
            "  -1.67794270e-03 -3.37104611e-02 -4.76521999e-03 -9.11185145e-02\n",
            "   5.12083210e-02  1.99030489e-02  8.94397777e-03 -4.81037125e-02\n",
            "  -5.79795451e-04  1.41960792e-02 -6.80347756e-02  1.10880695e-02\n",
            "  -5.93693666e-02 -9.22349934e-03  1.93067398e-02 -2.12032385e-02\n",
            "   2.19956804e-02 -3.17742303e-02  3.77486497e-02  4.43767235e-02\n",
            "  -1.96671225e-02  8.66270624e-03  1.33305332e-02  1.22636491e-02\n",
            "  -1.96586689e-03 -6.46538064e-02 -1.37484260e-02 -4.74659987e-02\n",
            "  -3.54522318e-02 -5.14305532e-02  2.55651418e-02 -1.82969887e-02\n",
            "   2.02851649e-02  1.83887944e-01 -5.58772236e-02 -1.33533580e-02\n",
            "   2.16536522e-02 -2.32687127e-02  1.65531747e-02 -1.57981664e-02\n",
            "   1.44767566e-02 -8.87686200e-03 -3.81704606e-02  2.36677192e-02\n",
            "   1.58120953e-02  3.90927941e-02  2.72591389e-03  3.85521986e-02\n",
            "   2.17292476e-02 -5.21606803e-02  8.10860097e-02 -9.60503891e-02\n",
            "   3.43860313e-02 -1.22316042e-02 -2.20634416e-03 -8.07715356e-02\n",
            "   3.50572467e-02  1.94340870e-02  4.16216440e-02  2.40675993e-02\n",
            "  -8.23338330e-03 -2.76246592e-02  1.25402501e-02 -5.36677614e-03\n",
            "  -1.46550741e-02 -4.26113605e-02  1.80791933e-02  4.40796129e-02\n",
            "   1.45877581e-02 -3.82494181e-02  1.26945540e-01 -4.41922247e-03\n",
            "  -1.08902529e-01 -1.88496104e-03 -3.73773538e-02  9.07510798e-03\n",
            "  -3.00664604e-02  4.92572784e-02 -1.37905208e-02  2.09287833e-02\n",
            "  -3.27337086e-02  9.95684713e-02  4.47396282e-03 -3.99678387e-02\n",
            "  -1.86473709e-02 -1.06691313e-03 -8.41878913e-03 -1.26637835e-02\n",
            "   4.31509465e-02  3.41048725e-02 -3.03511582e-02 -3.09603512e-02\n",
            "   1.62403379e-03  2.48022843e-05 -3.72123756e-02 -3.58814141e-03\n",
            "  -1.30440574e-02  3.25564332e-02  1.19244242e-02 -7.00924173e-02\n",
            "   4.72700000e-02  3.11538111e-02 -4.57416624e-02  1.27943270e-02\n",
            "  -3.54669290e-03  6.80428371e-03  4.32990827e-02  6.08269572e-02\n",
            "  -1.06203258e-02 -2.97671240e-02  1.77431968e-03  1.30160153e-02\n",
            "  -1.83014907e-02 -5.64281680e-02  1.63524076e-02  3.97944227e-02\n",
            "   4.57468107e-02  7.58408103e-03  2.45581437e-02  4.19276468e-02\n",
            "  -1.37946725e-01 -7.48680234e-02 -3.79589829e-03  8.91791731e-02\n",
            "  -2.37292908e-02  2.39438601e-02 -2.70797079e-03  9.72326729e-04\n",
            "   3.28421071e-02 -4.08792607e-02 -5.55750821e-03 -1.01582929e-01\n",
            "  -3.70660760e-02  3.35093439e-02  2.79882960e-02  1.40093882e-02\n",
            "   1.20622516e-02  1.63604897e-02 -5.96980490e-02  8.69094655e-02\n",
            "  -7.68574774e-02 -1.38488054e-01 -4.03245948e-02  4.37572971e-02\n",
            "  -1.73544306e-02  4.18602908e-03  2.14636996e-02 -4.49876972e-02\n",
            "   7.03923497e-03 -1.65481925e-01  7.53379054e-03  4.70584109e-02\n",
            "   8.41124915e-03  4.80790958e-02  2.01722533e-02 -6.78907672e-04\n",
            "   1.82971377e-02  1.09891798e-02 -9.11319330e-02  6.39361981e-03\n",
            "   3.94246019e-02  1.64072514e-02  2.50627771e-02  6.18667379e-02\n",
            "  -1.78566694e-01  6.04658127e-02  1.09796580e-02 -7.33895302e-02\n",
            "  -1.62322409e-02 -4.81109954e-02 -4.58873250e-02  2.03297045e-02\n",
            "   2.29051188e-02 -9.53756273e-03  4.34236601e-02 -5.20690382e-02\n",
            "  -4.54490893e-02 -1.86230000e-02 -1.46423010e-02  8.50908551e-03\n",
            "   1.40326275e-02 -2.17781868e-02 -5.03482521e-02  6.71613961e-02\n",
            "  -9.38266981e-03  4.84287925e-02 -1.87414438e-02 -8.72107223e-02\n",
            "  -9.65932086e-02  3.73421535e-02  2.69405507e-02  1.75471418e-02\n",
            "  -3.96129154e-02 -9.84112080e-03  3.38071911e-03  4.33121808e-02\n",
            "   4.66993731e-03 -1.15404420e-01  4.34405208e-02  4.78726812e-02\n",
            "  -5.04138656e-02 -4.46913391e-02  3.48244887e-03  5.16138598e-02\n",
            "   1.14716664e-02 -3.43126580e-02  8.55967123e-03 -1.09710641e-01\n",
            "  -2.91169900e-03  9.70447715e-03 -9.10891667e-02  4.36696708e-02\n",
            "   5.27983867e-02 -7.09367022e-02 -2.17418186e-02 -3.78034031e-03\n",
            "   5.95556907e-02  9.21131298e-03  1.65720331e-03  2.75669396e-02\n",
            "  -3.98867242e-02 -4.99586994e-03  1.61270332e-02  5.64603135e-02\n",
            "  -3.61090042e-02 -9.60762948e-02 -2.47396640e-02 -3.81752383e-04\n",
            "  -3.42394747e-02  5.54385781e-02 -2.65544094e-02 -1.39258364e-02\n",
            "  -2.41142809e-02 -3.06644849e-02 -1.09134868e-01  4.58756536e-02\n",
            "   7.73115642e-03  1.60138346e-02 -4.07338850e-02 -1.72066949e-02\n",
            "   4.45499569e-02  7.56142586e-02  8.48802179e-03 -2.00020462e-01\n",
            "  -2.82398593e-02 -3.14893387e-03 -1.63783655e-02  5.51794050e-03\n",
            "  -1.74905099e-02  1.96278952e-02 -6.86957082e-03 -3.75212468e-02\n",
            "  -1.42336916e-02 -1.29302929e-03 -3.89391510e-03 -4.11236808e-02\n",
            "  -3.51530500e-02 -8.03638622e-03  3.31740752e-02 -7.76259154e-02\n",
            "  -6.44418895e-02 -3.60243581e-03  1.78313944e-02 -4.54728492e-02\n",
            "   7.94375129e-03 -4.65856753e-02  1.86636262e-02 -6.40587555e-03\n",
            "   4.06023636e-02  1.66761819e-02 -8.62394348e-02 -7.83551410e-02\n",
            "  -2.63169035e-02  4.71296301e-03 -2.40199357e-01 -7.17501640e-02\n",
            "  -5.60233928e-02  2.42122114e-02  9.90882665e-02  1.24271035e-01\n",
            "  -1.59263220e-02  2.64404379e-02  7.59341894e-03 -2.46787760e-02\n",
            "  -2.36250181e-03  2.08219662e-02 -9.31131095e-02 -2.69338973e-02\n",
            "   6.15565479e-02 -4.53069583e-02  1.39430761e-02  1.75224114e-02\n",
            "  -8.72653909e-03  2.69246921e-02 -1.88553985e-02 -2.16030292e-02\n",
            "  -1.11559257e-02 -1.27543211e-02  2.50320900e-02  1.07365362e-02\n",
            "  -2.09265966e-02  6.77537173e-02  3.04685682e-02 -5.92592619e-02\n",
            "  -1.32316276e-02 -1.76444016e-02 -1.19985342e-02 -1.33997742e-02\n",
            "  -1.96532309e-02  3.85907032e-02  2.92811170e-02 -1.34034920e-02\n",
            "  -4.43639606e-02 -7.66218081e-03 -2.21723057e-02  3.42486724e-02\n",
            "  -8.94089695e-03  5.48302196e-02  9.62458849e-02 -4.53943908e-02\n",
            "   5.05018383e-02  1.51946936e-02  7.55190924e-02  3.78356278e-02\n",
            "   2.51637609e-03 -6.39001355e-02  1.92939006e-02  1.68924090e-02\n",
            "   8.83975029e-02  4.50787656e-02 -1.08714648e-01  4.87681925e-02\n",
            "  -4.42371070e-02 -7.32796714e-02 -4.65372913e-02 -6.03445852e-03\n",
            "  -3.92268188e-02  2.22143121e-02  1.89890414e-02 -2.03182310e-01\n",
            "   3.72827016e-02 -5.71617391e-03  7.95618147e-02 -6.32597320e-03\n",
            "   6.63524214e-03  9.71065536e-02 -3.34919691e-01 -6.62357584e-02\n",
            "   9.53455456e-03  1.59858204e-02 -1.87722258e-02 -2.14016177e-02\n",
            "  -3.45224030e-02  3.68521847e-02  1.62165966e-02 -6.56653717e-02\n",
            "  -1.30329449e-02 -3.46809402e-02 -5.73692564e-03 -3.05735655e-02\n",
            "  -1.58849172e-02  6.30346779e-03  1.02067083e-01  1.15194842e-01\n",
            "   4.58411798e-02  9.57201421e-03 -4.12075371e-02 -3.59350489e-03\n",
            "  -3.33868042e-02 -2.75148973e-02  2.10013259e-02  4.77703754e-04\n",
            "   1.23217843e-01 -1.63299851e-02 -6.97847009e-02  4.34426442e-02\n",
            "   1.56370923e-02  7.39211217e-04 -1.15702696e-01  2.97965612e-02\n",
            "  -1.20660961e-02  1.48375076e-03  2.73627937e-02 -1.97847575e-01\n",
            "   7.69224251e-03  2.41088625e-02  8.31829198e-03  5.54563366e-02\n",
            "  -8.74803588e-02 -1.03747100e-03  9.98362154e-03 -2.64777951e-02\n",
            "   7.04687536e-02 -1.44408671e-02  2.47764774e-02 -3.59001458e-02\n",
            "  -2.81768948e-01  2.30687801e-02 -6.48221374e-02  7.30479229e-03\n",
            "  -1.80391427e-02 -3.92503180e-02  1.81623958e-02 -2.16332823e-02\n",
            "   4.24198508e-02 -1.33731393e-02 -3.32631730e-02  1.72147229e-02\n",
            "   1.59221273e-02 -6.48239907e-03  1.21549293e-02 -2.65810639e-03\n",
            "  -6.26832363e-04 -2.85471566e-02 -6.72078226e-04  1.32508576e-05\n",
            "  -4.54461165e-02 -1.81296244e-01 -2.50892639e-02  6.30298555e-02\n",
            "   7.42288725e-03 -8.99700820e-02 -8.30255449e-04 -6.09388528e-03\n",
            "  -1.45346709e-02  5.11784069e-02 -1.07295932e-02  3.32166962e-02\n",
            "  -4.09420840e-02 -4.33266014e-02  6.47211969e-02  7.52996141e-03\n",
            "   2.43636109e-02 -6.20537959e-02  5.43538630e-02  1.29293818e-02\n",
            "  -1.77976340e-02  5.33305742e-02 -8.60299077e-03  9.19921324e-02]], shape=(1, 500), dtype=float32)\n"
          ]
        }
      ],
      "source": [
        "def build_encoder(autoencoder_name):\n",
        "    if autoencoder_name not in os.listdir(model_storage):\n",
        "        print(f'Not finished optimizing: {autoencoder_name} not found in {model_storage}.')\n",
        "    else:\n",
        "        autoencoder = tf.keras.saving.load_model(f'{model_storage}/{autoencoder_name}')\n",
        "        encoder_input_l = Input(shape=(192,256,3))\n",
        "        res_1 = autoencoder.layers[1](encoder_input_l)\n",
        "        res_2 = autoencoder.layers[2](res_1)\n",
        "        res_3 = autoencoder.layers[3](res_2)\n",
        "        res_4 = autoencoder.layers[4](res_3)\n",
        "        res_5 = autoencoder.layers[5](res_4)\n",
        "        res_6 = autoencoder.layers[6](res_5)\n",
        "        res_7 = autoencoder.layers[7](res_6)\n",
        "        encoder_output_l = autoencoder.layers[8](res_7)\n",
        "        encoder=Model(inputs=[encoder_input_l],outputs=[encoder_output_l])\n",
        "        return encoder\n",
        "\n",
        "# if necessary, download this precise autoencoder model from https://drive.google.com/file/d/12gtgkBgo_n1SF6LKLzNsXgtTuN_Wcoqn/view?usp=sharing\n",
        "encoder = build_encoder('autoencoder_model2_14.keras')\n",
        "# encoder is already saved at https://drive.google.com/file/d/11odRe5Stk9x8BWTv5Y2x8TFvgT_iuuZs/view?usp=sharing\n",
        "encoder.save(f'{model_storage}/encoder_model.keras')\n",
        "\n",
        "print(encoder(X_train[:1])) # test"
      ]
    }
  ],
  "metadata": {
    "accelerator": "TPU",
    "colab": {
      "machine_shape": "hm",
      "provenance": []
    },
    "kernelspec": {
      "display_name": "Python 3",
      "name": "python3"
    },
    "language_info": {
      "codemirror_mode": {
        "name": "ipython",
        "version": 3
      },
      "file_extension": ".py",
      "mimetype": "text/x-python",
      "name": "python",
      "nbconvert_exporter": "python",
      "pygments_lexer": "ipython3",
      "version": "3.10.10"
    }
  },
  "nbformat": 4,
  "nbformat_minor": 0
}